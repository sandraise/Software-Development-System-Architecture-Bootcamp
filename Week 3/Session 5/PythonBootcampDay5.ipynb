{
 "cells": [
  {
   "cell_type": "markdown",
   "id": "2573bd98",
   "metadata": {},
   "source": [
    "# Python Bootcamp Day 5:\n",
    "# Fundamentals of Python\n",
    "# "
   ]
  },
  {
   "cell_type": "code",
   "execution_count": 6,
   "id": "34562316",
   "metadata": {},
   "outputs": [
    {
     "name": "stdout",
     "output_type": "stream",
     "text": [
      "[10, 6, 14, 166, 2, 16, 86, 16, 20, 66]\n"
     ]
    }
   ],
   "source": [
    "# Iterating through a list using a for loop\n",
    "\n",
    "list = [5,3,7,83,1,8,43,8,10,33]\n",
    "new_list = []\n",
    "\n",
    "for i in list:\n",
    "    new_list.append(i*2)\n",
    "print(new_list)"
   ]
  },
  {
   "cell_type": "code",
   "execution_count": 8,
   "id": "e2ed4c94",
   "metadata": {},
   "outputs": [
    {
     "name": "stdout",
     "output_type": "stream",
     "text": [
      "[10, 6, 14, 166, 2, 16, 86, 16, 20, 66]\n"
     ]
    }
   ],
   "source": [
    "# List comphrension\n",
    "# list_variable = [expression for item in iterable if condition === True]\n",
    "\n",
    "list_2 = [i*2 for i in list]\n",
    "print(list_2)"
   ]
  },
  {
   "cell_type": "code",
   "execution_count": 19,
   "id": "d2632fbb",
   "metadata": {},
   "outputs": [
    {
     "name": "stdout",
     "output_type": "stream",
     "text": [
      "6\n",
      "8\n",
      "10\n",
      "12\n",
      "14\n"
     ]
    }
   ],
   "source": [
    "# Create a list of even numbers from 5 to 15\n",
    "\n",
    "for i in range(6,15,2):\n",
    "    print(i)"
   ]
  },
  {
   "cell_type": "code",
   "execution_count": null,
   "id": "1a07af2e",
   "metadata": {},
   "outputs": [],
   "source": [
    "# List comprehension - create a list of even numbers from 5 to 15\n",
    "even_nums = [i for i in range(6,16,2)]\n",
    "print(even_nums)"
   ]
  },
  {
   "cell_type": "code",
   "execution_count": 38,
   "id": "4c81b8c3",
   "metadata": {},
   "outputs": [
    {
     "name": "stdout",
     "output_type": "stream",
     "text": [
      "36\n",
      "64\n",
      "100\n",
      "144\n",
      "196\n"
     ]
    }
   ],
   "source": [
    "# Create a list of square of even numbers from 5 to 15\n",
    "\n",
    "for i in range(6,15,2):\n",
    "    print(i*i)"
   ]
  },
  {
   "cell_type": "code",
   "execution_count": 20,
   "id": "e3d5cf3a",
   "metadata": {},
   "outputs": [
    {
     "data": {
      "text/plain": [
       "[36, 64, 100, 144, 196, 256, 324]"
      ]
     },
     "execution_count": 20,
     "metadata": {},
     "output_type": "execute_result"
    }
   ],
   "source": [
    "# List comprehension - square a list of even numbers from 5 to 25.\n",
    "even_square = [i**2 for i in range(6,25,2) if i < 20]\n",
    "even_square"
   ]
  },
  {
   "cell_type": "code",
   "execution_count": 33,
   "id": "777cb448",
   "metadata": {},
   "outputs": [
    {
     "data": {
      "text/plain": [
       "dict_items([('age1', 26), ('age2', 24), ('age3', 22)])"
      ]
     },
     "execution_count": 33,
     "metadata": {},
     "output_type": "execute_result"
    }
   ],
   "source": [
    "# Creating a dictionary\n",
    "ages = {\"age1\": 26, \"age2\": 24, \"age3\": 22}\n",
    "ages\n",
    "ages.items()"
   ]
  },
  {
   "cell_type": "code",
   "execution_count": 31,
   "id": "358cd5f7",
   "metadata": {},
   "outputs": [
    {
     "data": {
      "text/plain": [
       "{'age1': 33, 'age2': 54, 'age3': 52}"
      ]
     },
     "execution_count": 31,
     "metadata": {},
     "output_type": "execute_result"
    }
   ],
   "source": [
    "# Iterating through a dictionary using a for loop\n",
    "new_dict = {}\n",
    "for i,j in ages.items():\n",
    "    ages[i] = j+10\n",
    "#    print(i,j*3)\n",
    "ages"
   ]
  },
  {
   "cell_type": "code",
   "execution_count": 32,
   "id": "4f59a1fb",
   "metadata": {},
   "outputs": [
    {
     "data": {
      "text/plain": [
       "{'age1': 23, 'age2': 54, 'age3': 52}"
      ]
     },
     "execution_count": 32,
     "metadata": {},
     "output_type": "execute_result"
    }
   ],
   "source": [
    "# Assign value to dictionary key\n",
    "ages[\"age1\"] = 23\n",
    "ages"
   ]
  },
  {
   "cell_type": "code",
   "execution_count": 37,
   "id": "d95d80e0",
   "metadata": {},
   "outputs": [
    {
     "data": {
      "text/plain": [
       "{'age1': 36, 'age2': 34, 'age3': 32}"
      ]
     },
     "execution_count": 37,
     "metadata": {},
     "output_type": "execute_result"
    }
   ],
   "source": [
    "# Dictionary comprehension\n",
    "# dict_variable = {key:value for (key,value) in dictonary.items()}\n",
    "dict = {i:j+10 for i,j in ages.items()}\n",
    "dict"
   ]
  },
  {
   "cell_type": "code",
   "execution_count": 43,
   "id": "842dcea1",
   "metadata": {},
   "outputs": [
    {
     "name": "stdout",
     "output_type": "stream",
     "text": [
      "0\n",
      "1\n",
      "2\n",
      "3\n",
      "4\n"
     ]
    }
   ],
   "source": [
    "# While loop\n",
    "\n",
    "n = 0\n",
    "while n < 10:\n",
    "    print(n)\n",
    "    n = n + 1\n",
    "    if n == 5: \n",
    "        break # Code stops running once it condition of n == 5 is met"
   ]
  },
  {
   "cell_type": "code",
   "execution_count": 59,
   "id": "d592adb4",
   "metadata": {},
   "outputs": [],
   "source": [
    "# EXERCISE 1\n",
    "\n",
    "# Create a function that takes 2 arguments, \n",
    "# the original price and the discount percentage as integers and returns the final price after the discount\n",
    "\n",
    "def calc_discount(price,discount):\n",
    "    return price - price*(discount/100) "
   ]
  },
  {
   "cell_type": "code",
   "execution_count": 61,
   "id": "5b230844",
   "metadata": {},
   "outputs": [
    {
     "name": "stdout",
     "output_type": "stream",
     "text": [
      "750.0\n",
      "71.2\n",
      "25.0\n"
     ]
    }
   ],
   "source": [
    "print(calc_discount(1500, 50))\n",
    "\n",
    "print(calc_discount(89, 20))\n",
    "\n",
    "print(calc_discount(100, 75))"
   ]
  },
  {
   "cell_type": "code",
   "execution_count": 65,
   "id": "0fd10375",
   "metadata": {},
   "outputs": [],
   "source": [
    "# EXERCISE 2\n",
    "# Given the radius of a circle and the area of a square, \n",
    "# return True if the circumference of the circle is greater than the square's perimeter \n",
    "# and False if the square's perimeter is greater than the circumference of the circle.\n",
    "\n",
    "# Notes\n",
    "# You can use Pi to 2 decimal places (3.14).\n",
    "# Circumference of a circle equals 2 * Pi * radius.\n",
    "# To find the perimeter of a square using its area, \n",
    "# find the square root of area (to get side length) and multiply that by 4.\n",
    "\n",
    "import math \n",
    "\n",
    "def true_or_false(radius, area):\n",
    "    circumference = 2 * 3.14 * radius\n",
    "    perimeter = math.sqrt(area)*4\n",
    "    if circumference > perimeter:\n",
    "        return True\n",
    "    else:\n",
    "        return False"
   ]
  },
  {
   "cell_type": "code",
   "execution_count": 66,
   "id": "9e8c9456",
   "metadata": {},
   "outputs": [
    {
     "name": "stdout",
     "output_type": "stream",
     "text": [
      "True\n",
      "False\n",
      "True\n"
     ]
    }
   ],
   "source": [
    "print(true_or_false(16, 625))\n",
    "print(true_or_false(5, 100))\n",
    "print(true_or_false(8, 144))"
   ]
  },
  {
   "cell_type": "code",
   "execution_count": 96,
   "id": "adefe03b",
   "metadata": {},
   "outputs": [],
   "source": [
    "# EXERCISE 3\n",
    "# Create a function that takes a string and returns the number (count) of vowels contained within it.\n",
    "# Examples\n",
    "\n",
    "\n",
    "# a, e, i, o, u are considered vowels.\n",
    "vowels = \"aeiou\"\n",
    "def count_vowels(str):\n",
    "    count = 0\n",
    "    for i in vowels:\n",
    "        if i in str:\n",
    "            count+=1\n",
    "    return count\n",
    "\n",
    "def count_vowels2(str):\n",
    "    vowels = 0\n",
    "    for i in str:\n",
    "        if i in [\"a\",\"e\",\"i\",\"o\",\"u\"]:\n",
    "            vowels += 1\n",
    "    return vowels"
   ]
  },
  {
   "cell_type": "code",
   "execution_count": 97,
   "id": "847b21b8",
   "metadata": {},
   "outputs": [
    {
     "name": "stdout",
     "output_type": "stream",
     "text": [
      "4\n",
      "1\n",
      "3\n"
     ]
    }
   ],
   "source": [
    "print(count_vowels(\"Celebration\"))\n",
    "print(count_vowels(\"Palm\"))\n",
    "print(count_vowels(\"Prediction\"))"
   ]
  },
  {
   "cell_type": "code",
   "execution_count": 93,
   "id": "af1dd3a2",
   "metadata": {},
   "outputs": [
    {
     "data": {
      "text/plain": [
       "3"
      ]
     },
     "execution_count": 93,
     "metadata": {},
     "output_type": "execute_result"
    }
   ],
   "source": [
    "# list_variable = [expression for item in iterable if condition === True]\n",
    "# [i for i in range(6,16,2)]\n",
    "increase_count=0\n",
    "\n",
    "def count_of_vowels(string):\n",
    "    vowels = [\"a\",\"e\",\"i\",\"o\",\"u\"]\n",
    "    count=0\n",
    "    num_count = [i for i in string if i in vowels]\n",
    "    return len(num_count)\n",
    "    \n"
   ]
  },
  {
   "cell_type": "code",
   "execution_count": 94,
   "id": "8b5d1135",
   "metadata": {},
   "outputs": [
    {
     "data": {
      "text/plain": [
       "4"
      ]
     },
     "execution_count": 94,
     "metadata": {},
     "output_type": "execute_result"
    }
   ],
   "source": [
    "count_of_vowels(\"Celebration\")\n",
    "count_of_vowels(\"Palm\")\n",
    "count_of_vowels(\"Prediction\")"
   ]
  },
  {
   "cell_type": "code",
   "execution_count": null,
   "id": "71adc169",
   "metadata": {},
   "outputs": [],
   "source": []
  }
 ],
 "metadata": {
  "kernelspec": {
   "display_name": "Python 3 (ipykernel)",
   "language": "python",
   "name": "python3"
  },
  "language_info": {
   "codemirror_mode": {
    "name": "ipython",
    "version": 3
   },
   "file_extension": ".py",
   "mimetype": "text/x-python",
   "name": "python",
   "nbconvert_exporter": "python",
   "pygments_lexer": "ipython3",
   "version": "3.10.3"
  }
 },
 "nbformat": 4,
 "nbformat_minor": 5
}
