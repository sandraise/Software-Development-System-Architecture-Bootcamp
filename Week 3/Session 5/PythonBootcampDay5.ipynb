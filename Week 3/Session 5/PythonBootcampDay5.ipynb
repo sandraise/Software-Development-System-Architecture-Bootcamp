{
 "cells": [
  {
   "cell_type": "markdown",
   "id": "2573bd98",
   "metadata": {},
   "source": [
    "# Python Bootcamp Day 5:\n",
    "# Fundamentals of Python\n",
    "# https://youtu.be/R-B3n-Cdx2I"
   ]
  },
  {
   "cell_type": "code",
   "execution_count": null,
   "id": "34562316",
   "metadata": {},
   "outputs": [],
   "source": [
    "# Iterating through a list using a for loop\n",
    "\n",
    "list = [5,3,7,83,1,8,43,8,10,33]\n",
    "new_list = []\n",
    "\n",
    "for i in list:\n",
    "    new_list.append(i*2)\n",
    "print(new_list)"
   ]
  },
  {
   "cell_type": "code",
   "execution_count": null,
   "id": "e2ed4c94",
   "metadata": {},
   "outputs": [],
   "source": [
    "# List comphrension\n",
    "# list_variable = [expression for item in iterable if condition === True]\n",
    "\n",
    "list_2 = [i*2 for i in list]\n",
    "print(list_2)"
   ]
  },
  {
   "cell_type": "code",
   "execution_count": null,
   "id": "d2632fbb",
   "metadata": {},
   "outputs": [],
   "source": [
    "# Create a list of even numbers from 5 to 15\n",
    "\n",
    "for i in range(6,15,2):\n",
    "    print(i)"
   ]
  },
  {
   "cell_type": "code",
   "execution_count": null,
   "id": "1a07af2e",
   "metadata": {},
   "outputs": [],
   "source": [
    "# List comprehension - create a list of even numbers from 5 to 15\n",
    "even_nums = [i for i in range(6,16,2)]\n",
    "print(even_nums)"
   ]
  },
  {
   "cell_type": "code",
   "execution_count": null,
   "id": "4c81b8c3",
   "metadata": {},
   "outputs": [],
   "source": [
    "# Create a list of square of even numbers from 5 to 15\n",
    "\n",
    "for i in range(6,15,2):\n",
    "    print(i*i)"
   ]
  },
  {
   "cell_type": "code",
   "execution_count": null,
   "id": "e3d5cf3a",
   "metadata": {},
   "outputs": [],
   "source": [
    "# List comprehension - square a list of even numbers from 5 to 25.\n",
    "even_square = [i**2 for i in range(6,25,2) if i < 20]\n",
    "even_square"
   ]
  },
  {
   "cell_type": "code",
   "execution_count": null,
   "id": "777cb448",
   "metadata": {},
   "outputs": [],
   "source": [
    "# Creating a dictionary\n",
    "ages = {\"age1\": 26, \"age2\": 24, \"age3\": 22}\n",
    "ages\n",
    "ages.items()"
   ]
  },
  {
   "cell_type": "code",
   "execution_count": null,
   "id": "358cd5f7",
   "metadata": {},
   "outputs": [],
   "source": [
    "# Iterating through a dictionary using a for loop\n",
    "new_dict = {}\n",
    "for i,j in ages.items():\n",
    "    ages[i] = j+10\n",
    "#    print(i,j*3)\n",
    "ages"
   ]
  },
  {
   "cell_type": "code",
   "execution_count": null,
   "id": "4f59a1fb",
   "metadata": {},
   "outputs": [],
   "source": [
    "# Assign value to dictionary key\n",
    "ages[\"age1\"] = 23\n",
    "ages"
   ]
  },
  {
   "cell_type": "code",
   "execution_count": null,
   "id": "d95d80e0",
   "metadata": {},
   "outputs": [],
   "source": [
    "# Dictionary comprehension\n",
    "# dict_variable = {key:value for (key,value) in dictonary.items()}\n",
    "dict = {i:j+10 for i,j in ages.items()}\n",
    "dict"
   ]
  },
  {
   "cell_type": "code",
   "execution_count": null,
   "id": "842dcea1",
   "metadata": {},
   "outputs": [],
   "source": [
    "# While loop\n",
    "\n",
    "n = 0\n",
    "while n < 10:\n",
    "    print(n)\n",
    "    n = n + 1\n",
    "    if n == 5: \n",
    "        break # Code stops running once it condition of n == 5 is met"
   ]
  },
  {
   "cell_type": "code",
   "execution_count": null,
   "id": "d592adb4",
   "metadata": {},
   "outputs": [],
   "source": [
    "# EXERCISE 1\n",
    "\n",
    "# Create a function that takes 2 arguments, \n",
    "# the original price and the discount percentage as integers and returns the final price after the discount\n",
    "\n",
    "def calc_discount(price,discount):\n",
    "    return price - price*(discount/100) "
   ]
  },
  {
   "cell_type": "code",
   "execution_count": null,
   "id": "5b230844",
   "metadata": {},
   "outputs": [],
   "source": [
    "print(calc_discount(1500, 50))\n",
    "\n",
    "print(calc_discount(89, 20))\n",
    "\n",
    "print(calc_discount(100, 75))"
   ]
  },
  {
   "cell_type": "code",
   "execution_count": null,
   "id": "0fd10375",
   "metadata": {},
   "outputs": [],
   "source": [
    "# EXERCISE 2\n",
    "# Given the radius of a circle and the area of a square, \n",
    "# return True if the circumference of the circle is greater than the square's perimeter \n",
    "# and False if the square's perimeter is greater than the circumference of the circle.\n",
    "\n",
    "# Notes\n",
    "# You can use Pi to 2 decimal places (3.14).\n",
    "# Circumference of a circle equals 2 * Pi * radius.\n",
    "# To find the perimeter of a square using its area, \n",
    "# find the square root of area (to get side length) and multiply that by 4.\n",
    "\n",
    "import math \n",
    "\n",
    "def true_or_false(radius, area):\n",
    "    circumference = 2 * 3.14 * radius\n",
    "    perimeter = math.sqrt(area)*4\n",
    "    if circumference > perimeter:\n",
    "        return True\n",
    "    else:\n",
    "        return False"
   ]
  },
  {
   "cell_type": "code",
   "execution_count": null,
   "id": "9e8c9456",
   "metadata": {},
   "outputs": [],
   "source": [
    "print(true_or_false(16, 625))\n",
    "print(true_or_false(5, 100))\n",
    "print(true_or_false(8, 144))"
   ]
  },
  {
   "cell_type": "code",
   "execution_count": null,
   "id": "adefe03b",
   "metadata": {},
   "outputs": [],
   "source": [
    "# EXERCISE 3\n",
    "# Create a function that takes a string and returns the number (count) of vowels contained within it.\n",
    "# Examples\n",
    "\n",
    "\n",
    "# a, e, i, o, u are considered vowels.\n",
    "vowels = \"aeiou\"\n",
    "def count_vowels(str):\n",
    "    count = 0\n",
    "    for i in vowels:\n",
    "        if i in str:\n",
    "            count+=1\n",
    "    return count\n",
    "\n",
    "def count_vowels2(str):\n",
    "    vowels = 0\n",
    "    for i in str:\n",
    "        if i in [\"a\",\"e\",\"i\",\"o\",\"u\"]:\n",
    "            vowels += 1\n",
    "    return vowels"
   ]
  },
  {
   "cell_type": "code",
   "execution_count": null,
   "id": "847b21b8",
   "metadata": {},
   "outputs": [],
   "source": [
    "print(count_vowels(\"Celebration\"))\n",
    "print(count_vowels(\"Palm\"))\n",
    "print(count_vowels(\"Prediction\"))"
   ]
  },
  {
   "cell_type": "code",
   "execution_count": null,
   "id": "af1dd3a2",
   "metadata": {},
   "outputs": [],
   "source": [
    "# list_variable = [expression for item in iterable if condition === True]\n",
    "# [i for i in range(6,16,2)]\n",
    "increase_count=0\n",
    "\n",
    "def count_of_vowels(string):\n",
    "    vowels = [\"a\",\"e\",\"i\",\"o\",\"u\"]\n",
    "    count=0\n",
    "    num_count = [i for i in string if i in vowels]\n",
    "    return len(num_count)"
   ]
  },
  {
   "cell_type": "code",
   "execution_count": null,
   "id": "8b5d1135",
   "metadata": {},
   "outputs": [],
   "source": [
    "count_of_vowels(\"Celebration\")\n",
    "count_of_vowels(\"Palm\")\n",
    "count_of_vowels(\"Prediction\")"
   ]
  },
  {
   "cell_type": "code",
   "execution_count": null,
   "id": "71adc169",
   "metadata": {},
   "outputs": [],
   "source": [
    "# EXERCISE 4\n",
    "# Create a function that takes three arguments a, b, c and returns the sum of the\n",
    "# numbers that are evenly divided by c from the range a, b inclusive.\n",
    "# evenly_divisible(1, 10, 20) ➞ 0\n",
    "# No number between 1 and 10 can be evenly divided by 20.\n",
    "\n",
    "def evenly_divisible(a,b,c):\n",
    "    even_nums = [i for i in range(a,b+1) if i%c==0]\n",
    "    Sum = sum(even_nums)\n",
    "    print(even_nums)\n",
    "    return(Sum)"
   ]
  },
  {
   "cell_type": "code",
   "execution_count": null,
   "id": "fa9b1430",
   "metadata": {},
   "outputs": [],
   "source": [
    "print(evenly_divisible(1, 10, 2))\n",
    "# ➞ 30\n",
    "# 2 + 4 + 6 + 8 + 10 = 30\n",
    "print(evenly_divisible(1, 10, 3) )\n",
    "# ➞ 18\n",
    "# 3 + 6 + 9 = 18"
   ]
  },
  {
   "cell_type": "code",
   "execution_count": null,
   "id": "15b27a05",
   "metadata": {},
   "outputs": [],
   "source": [
    "def sumDivisibles(a, b, c):     \n",
    "    sum = 0\n",
    "    for i in range(a, b + 1): \n",
    "        if (i % c == 0):\n",
    "            sum += i \n",
    "    return sum\n",
    "a = int(input('Enter a : '))\n",
    "b = int(input('Enter b : '))\n",
    "c = int(input('Enter c : '))\n",
    "print(sumDivisibles(a, b, c))"
   ]
  },
  {
   "cell_type": "code",
   "execution_count": null,
   "id": "4e3531eb",
   "metadata": {},
   "outputs": [],
   "source": [
    "# EXERCISE 5\n",
    "# Write a program that creates a personalised invite for your friends to your birthday party.\n",
    "# Your program should include your friend’s name, a different pass code for each friend and the invite message.\n",
    "# NB: You can use a dictionary to store your friends name and their pass code."
   ]
  },
  {
   "cell_type": "code",
   "execution_count": null,
   "id": "e3881659",
   "metadata": {},
   "outputs": [],
   "source": [
    "friends = {\"friend_1\": {\n",
    "    \"name\":\"Enyinna\",\n",
    "    \"passcode\":329\n",
    "},\n",
    "          \"friend_2\": {\n",
    "              \"name\":\"Opeyemi\",\n",
    "              \"passcode\":228\n",
    "          },\n",
    "          \"friend_3\": {\n",
    "              \"name\":\"Esohe\",\n",
    "              \"passcode\":330\n",
    "          },\n",
    "          \"friend_4\": {\n",
    "              \"name\":\"Cynthia\",\n",
    "              \"passcode\":209\n",
    "          }}\n",
    "\n",
    "friends"
   ]
  },
  {
   "cell_type": "code",
   "execution_count": null,
   "id": "2a0dfee4",
   "metadata": {},
   "outputs": [],
   "source": [
    "def personal_invite():\n",
    "   # friend_name = input(\"Enter your name: \")\n",
    "   # friend_passcode = int(input(\"Enter your passcode: \"))\n",
    "    for i in friends.values():\n",
    "          print(i)\n"
   ]
  },
  {
   "cell_type": "code",
   "execution_count": null,
   "id": "546d6320",
   "metadata": {},
   "outputs": [],
   "source": [
    "personal_invite()"
   ]
  },
  {
   "cell_type": "code",
   "execution_count": null,
   "id": "b3bddb0e",
   "metadata": {},
   "outputs": [],
   "source": []
  }
 ],
 "metadata": {
  "kernelspec": {
   "display_name": "Python 3 (ipykernel)",
   "language": "python",
   "name": "python3"
  },
  "language_info": {
   "codemirror_mode": {
    "name": "ipython",
    "version": 3
   },
   "file_extension": ".py",
   "mimetype": "text/x-python",
   "name": "python",
   "nbconvert_exporter": "python",
   "pygments_lexer": "ipython3",
   "version": "3.10.4"
  }
 },
 "nbformat": 4,
 "nbformat_minor": 5
}
