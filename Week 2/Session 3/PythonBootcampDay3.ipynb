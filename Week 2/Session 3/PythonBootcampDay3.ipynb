{
 "cells": [
  {
   "cell_type": "code",
   "execution_count": 22,
   "id": "210181e1",
   "metadata": {},
   "outputs": [],
   "source": [
    "# Python Bootcamp  Day 3:\n",
    "# Fundamentals of Python\n",
    "# https://www.youtube.com/watch?v=Zm_3q8MlXXk"
   ]
  },
  {
   "cell_type": "code",
   "execution_count": 23,
   "id": "25ccaaa7",
   "metadata": {},
   "outputs": [
    {
     "data": {
      "text/plain": [
       "7"
      ]
     },
     "execution_count": 23,
     "metadata": {},
     "output_type": "execute_result"
    }
   ],
   "source": [
    "countries = ['Nigeria', 'Ghana', 'UK', 'US', 'Canada', 'Libya', 'Germany']\n",
    "type(countries)\n",
    "\n",
    "len(countries)"
   ]
  },
  {
   "cell_type": "code",
   "execution_count": 24,
   "id": "10725328",
   "metadata": {},
   "outputs": [
    {
     "data": {
      "text/plain": [
       "'Canada'"
      ]
     },
     "execution_count": 24,
     "metadata": {},
     "output_type": "execute_result"
    }
   ],
   "source": [
    "# Selecting from first to the 4th element\n",
    "countries[:4]\n",
    "\n",
    "# Selecting from 3rd item to the end\n",
    "countries[3:]\n",
    "\n",
    "# Selecting last 6 items\n",
    "countries[-6:]\n",
    "\n",
    "countries[1:]\n",
    "\n",
    "countries[1:5]\n",
    "\n",
    "countries[4]"
   ]
  },
  {
   "cell_type": "code",
   "execution_count": 25,
   "id": "d4927f75",
   "metadata": {},
   "outputs": [
    {
     "data": {
      "text/plain": [
       "['Nigeria', 'Ghana', 'UK', 'Algeria', 'Canada', 'Libya', 'Germany']"
      ]
     },
     "execution_count": 25,
     "metadata": {},
     "output_type": "execute_result"
    }
   ],
   "source": [
    "ages = [12,45,21,45,21,56,25,78]\n",
    "ages\n",
    "\n",
    "ages[2:7]\n",
    "\n",
    "max(ages)\n",
    "\n",
    "min(ages)\n",
    "\n",
    "max(countries)\n",
    "\n",
    "min(countries)\n",
    "\n",
    "countries[3] = 'Algeria'\n",
    "countries"
   ]
  },
  {
   "cell_type": "code",
   "execution_count": 26,
   "id": "6c7f7cd8",
   "metadata": {},
   "outputs": [
    {
     "name": "stdout",
     "output_type": "stream",
     "text": [
      "Bed\n",
      "Pillow\n",
      "Mattress\n"
     ]
    }
   ],
   "source": [
    "p1, p2, p3 = ['Bed', 'Pillow', 'Mattress']\n",
    "print(p1)\n",
    "print(p2)\n",
    "print(p3)"
   ]
  },
  {
   "cell_type": "code",
   "execution_count": 27,
   "id": "2622441a",
   "metadata": {},
   "outputs": [
    {
     "name": "stdout",
     "output_type": "stream",
     "text": [
      "kia\n",
      "lexus\n",
      "3\n",
      "True\n"
     ]
    }
   ],
   "source": [
    "# Tuples \n",
    "\n",
    "new_tuple = tuple(countries)\n",
    "type(new_tuple)\n",
    "\n",
    "my_tuple = ((\"kia\", \"lexus\", 3, True))\n",
    "my_tuple\n",
    "\n",
    "my_tuple[0]\n",
    "\n",
    "t1, t2, t3, t4 = my_tuple\n",
    "print(t1)\n",
    "print(t2)\n",
    "print(t3)\n",
    "print(t4)"
   ]
  },
  {
   "cell_type": "code",
   "execution_count": 28,
   "id": "9d1b7550",
   "metadata": {},
   "outputs": [
    {
     "data": {
      "text/plain": [
       "'bootcamp'"
      ]
     },
     "execution_count": 28,
     "metadata": {},
     "output_type": "execute_result"
    }
   ],
   "source": [
    "var = \"disruptbootcamp\"\n",
    "var\n",
    "\n",
    "var[:7]\n",
    "\n",
    "var[7:]"
   ]
  },
  {
   "cell_type": "code",
   "execution_count": 29,
   "id": "6358869a",
   "metadata": {},
   "outputs": [
    {
     "name": "stdout",
     "output_type": "stream",
     "text": [
      "1.5\n"
     ]
    }
   ],
   "source": [
    "# Task 8 \n",
    "# Create a program that takes in two numbers and then outputs the average of the two numbers(use list unpacking).\n",
    "\n",
    "num_1,num_2 = [1,2]\n",
    "print((num_1+num_2)/2)"
   ]
  },
  {
   "cell_type": "code",
   "execution_count": 30,
   "id": "d445c565",
   "metadata": {},
   "outputs": [
    {
     "data": {
      "text/plain": [
       "['November 13, 2012', 'March 20, 2015', 'March 9, 2016']"
      ]
     },
     "execution_count": 30,
     "metadata": {},
     "output_type": "execute_result"
    }
   ],
   "source": [
    "# Task 9\n",
    "# TODO: Modify this line so it prints the last three elements of the list\n",
    "\n",
    "eclipse_dates = ['June 21, 2001', 'December 4, 2002', 'November 23, 2003',\n",
    "                 'March 29, 2006', 'August 1, 2008', 'July 22, 2009',\n",
    "                 'July 11, 2010', 'November 13, 2012', 'March 20, 2015',\n",
    "                 'March 9, 2016']\n",
    "eclipse_dates[-3:]"
   ]
  },
  {
   "cell_type": "code",
   "execution_count": 31,
   "id": "9f005881",
   "metadata": {},
   "outputs": [
    {
     "name": "stdout",
     "output_type": "stream",
     "text": [
      "[31, 28, 31]\n",
      "[30, 31, 30]\n",
      "[31, 31, 30]\n",
      "[31, 30, 31]\n"
     ]
    }
   ],
   "source": [
    "# Task 10 \n",
    "# Write a program to allow a user print the number of days in any month of the calendar year\n",
    "# (b) Calculate the number of days in each quarter(slicing)\n",
    "# (c)Use functions to make our code more reusable\n",
    "\n",
    "days_in_month = [31,28,31,30,31,30,31,31,30,31,30,31]\n",
    "q1 = days_in_month[:3]\n",
    "print(q1)\n",
    "q2 = days_in_month[3:6]\n",
    "print(q2)\n",
    "q3 = days_in_month[6:9]\n",
    "print(q3)\n",
    "q4 = days_in_month[-3:]\n",
    "print(q4)"
   ]
  },
  {
   "cell_type": "code",
   "execution_count": 32,
   "id": "10805cbb",
   "metadata": {},
   "outputs": [
    {
     "name": "stdout",
     "output_type": "stream",
     "text": [
      "90\n",
      "91\n",
      "92\n",
      "92\n"
     ]
    }
   ],
   "source": [
    "a1,a2,a3 = q1\n",
    "print(a1+a2+a3)\n",
    "\n",
    "b1,b2,b3 = q2\n",
    "print(b1+b2+b3)\n",
    "\n",
    "c1,c2,c3 = q3\n",
    "print(c1+c2+c3)\n",
    "\n",
    "d1,d2,d3 = q4\n",
    "print(d1+d2+d3)"
   ]
  },
  {
   "cell_type": "code",
   "execution_count": 33,
   "id": "8d0e0077",
   "metadata": {},
   "outputs": [
    {
     "data": {
      "text/plain": [
       "['Jamaica',\n",
       " 'December 4, 2002',\n",
       " 'November 23, 2003',\n",
       " 'March 29, 2006',\n",
       " 'August 1, 2008',\n",
       " 'July 22, 2009',\n",
       " 'July 11, 2010',\n",
       " 'November 13, 2012',\n",
       " 'March 20, 2015',\n",
       " 'March 9, 2016']"
      ]
     },
     "execution_count": 33,
     "metadata": {},
     "output_type": "execute_result"
    }
   ],
   "source": [
    "eclipse_tuple = tuple(eclipse_dates)\n",
    "eclipse_tuple\n",
    "\n",
    "new_tuple_list = (*eclipse_dates,)\n",
    "tp = list(new_tuple_list)\n",
    "tp[0] = \"Jamaica\"\n",
    "tp"
   ]
  },
  {
   "cell_type": "code",
   "execution_count": 34,
   "id": "a8fa7a8d",
   "metadata": {},
   "outputs": [
    {
     "data": {
      "text/plain": [
       "1"
      ]
     },
     "execution_count": 34,
     "metadata": {},
     "output_type": "execute_result"
    }
   ],
   "source": [
    "count_eclipse = tuple(eclipse_dates)\n",
    "count_eclipse\n",
    "\n",
    "count_eclipse.count('July 11, 2010')\n",
    "\n",
    "# count_eclipse.index(2)"
   ]
  },
  {
   "cell_type": "code",
   "execution_count": 35,
   "id": "91c8f11a",
   "metadata": {},
   "outputs": [
    {
     "data": {
      "text/plain": [
       "{'Algeria', 'Canada', 'Ghana', 'Holland', 'Libya', 'Nigeria', 'UK'}"
      ]
     },
     "execution_count": 35,
     "metadata": {},
     "output_type": "execute_result"
    }
   ],
   "source": [
    "# Sets\n",
    "\n",
    "days_per_month = (21,37,38,26,39,37,38,73,21)\n",
    "days_per_month\n",
    "\n",
    "days_per_month = set((21,37,38,26,39,37,38,73,21))\n",
    "days_per_month\n",
    "\n",
    "days = set(countries)\n",
    "days\n",
    "\n",
    "len(days)\n",
    "\n",
    "days.add(\"Holland\")\n",
    "days\n",
    "\n",
    "days.remove(\"Germany\")\n",
    "days\n",
    "\n",
    "days.union(days_per_month)\n",
    "days"
   ]
  }
 ],
 "metadata": {
  "kernelspec": {
   "display_name": "Python 3 (ipykernel)",
   "language": "python",
   "name": "python3"
  },
  "language_info": {
   "codemirror_mode": {
    "name": "ipython",
    "version": 3
   },
   "file_extension": ".py",
   "mimetype": "text/x-python",
   "name": "python",
   "nbconvert_exporter": "python",
   "pygments_lexer": "ipython3",
   "version": "3.10.3"
  }
 },
 "nbformat": 4,
 "nbformat_minor": 5
}
