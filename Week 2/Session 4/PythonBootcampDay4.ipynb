{
 "cells": [
  {
   "cell_type": "code",
   "execution_count": 4,
   "id": "5610bc89",
   "metadata": {},
   "outputs": [],
   "source": [
    "# Python Bootcamp  Day 4:\n",
    "# Fundamentals of Python\n",
    "# https://www.youtube.com/watch?v=Jv3wMfMf1m8"
   ]
  },
  {
   "cell_type": "code",
   "execution_count": 5,
   "id": "d9cf65a2",
   "metadata": {},
   "outputs": [
    {
     "name": "stdout",
     "output_type": "stream",
     "text": [
      "November\n"
     ]
    }
   ],
   "source": [
    "# Dictionary\n",
    "\n",
    "# MonthConversion - a program that allows users to convert a 3 digit month name to its full month name.\n",
    "\n",
    "monthConversion = {\n",
    "  \"Jan\" : \"January\",\n",
    "  \"Feb\" : \"February\",\n",
    "  \"Mar\" : \"March\",\n",
    "  \"Apr\" : \"April\",\n",
    "  \"May\" : \"May\",\n",
    "  \"Jun\" : \"June\",\n",
    "  \"Jul\" : \"July\",\n",
    "  \"Aug\" : \"August\",\n",
    "  \"Sep\" : \"September\",\n",
    "  \"Oct\" : \"October\",\n",
    "  \"Nov\" : \"November\",\n",
    "  \"Dec\" : \"December\"\n",
    "}\n",
    "\n",
    "print(monthConversion[\"Nov\"])"
   ]
  },
  {
   "cell_type": "code",
   "execution_count": 6,
   "id": "72486823",
   "metadata": {},
   "outputs": [
    {
     "name": "stdout",
     "output_type": "stream",
     "text": [
      "{'car': 'Toyota', 'model': 'CXS', 'year': 2020, 'owner': {'first_name': 'Bayo', 'last_name': 'Dan'}}\n",
      "Toyota\n",
      "Dan\n",
      "dict_keys(['car', 'model', 'year', 'owner'])\n",
      "dict_items([('car', 'Toyota'), ('model', 'CXS'), ('year', 2020), ('owner', {'first_name': 'Bayo', 'last_name': 'Dan'})])\n",
      "{'car': 'Toyota', 'model': 'Camary', 'year': 2020, 'owner': {'first_name': 'Bayo', 'last_name': 'Dan'}}\n",
      "{'car': 'Toyota', 'model': 'Camary', 'owner': {'first_name': 'Bayo', 'last_name': 'Dan'}}\n"
     ]
    }
   ],
   "source": [
    "dict = {\"car\": \"Toyota\",\n",
    "\"model\":\"CXS\",\n",
    "\"year\": 2020,\n",
    "\"owner\": {\n",
    "  \"first_name\": \"Bayo\",\n",
    "  \"last_name\": \"Dan\"\n",
    "}}\n",
    "\n",
    "print(dict)\n",
    "\n",
    "print(dict.get(\"car\"))\n",
    "\n",
    "print(dict['owner']['last_name'])\n",
    "\n",
    "print(dict.keys())\n",
    "\n",
    "print(dict.items())\n",
    "\n",
    "dict['model'] = 'Camary'\n",
    "\n",
    "print(dict)\n",
    "\n",
    "dict.pop(\"year\")\n",
    "\n",
    "print(dict)"
   ]
  },
  {
   "cell_type": "code",
   "execution_count": 7,
   "id": "92d6462a",
   "metadata": {},
   "outputs": [
    {
     "name": "stdout",
     "output_type": "stream",
     "text": [
      "This is not true\n"
     ]
    }
   ],
   "source": [
    "num1 = 5\n",
    "num2 = 8\n",
    "\n",
    "if (num1 > num2):\n",
    "  print(\"This is true\")\n",
    "else:\n",
    "  print(\"This is not true\")\n",
    "\n"
   ]
  },
  {
   "cell_type": "code",
   "execution_count": 8,
   "id": "94c44cc7",
   "metadata": {},
   "outputs": [
    {
     "name": "stdout",
     "output_type": "stream",
     "text": [
      "Card declined.\n",
      "Hello World\n",
      "Hello World\n",
      "Hello World\n",
      "Hi World\n",
      "Hi World\n"
     ]
    }
   ],
   "source": [
    "# Task 10\n",
    "# Create variables called bank_balance = 10 and access_code = “niyo”, or set to whatever you like.\n",
    "# Create a program that asks the user to input price of product and access code, and prints ‘Card declined’ if the bank_balance is less than price of product \n",
    "# OR the access_code is not equal to “niyo” otherwise program prints “Payment Accepted”\n",
    "\n",
    "bank_balance = 10\n",
    "access_code = \"niyo\"\n",
    "\n",
    "user_input_price = int(input(\"Enter the price of product: \"))\n",
    "user_input_access_code = input(\"Enter the access code: \")\n",
    "\n",
    "if bank_balance < user_input_price or user_input_price != access_code:\n",
    "  print(\"Card declined.\")\n",
    "else:\n",
    "  print(\"Payment accepted.\")\n",
    "\n",
    "for i in range(5):\n",
    "  if i < 3:\n",
    "    print(\"Hello World\")\n",
    "  else:\n",
    "    print(\"Hi World\")"
   ]
  },
  {
   "cell_type": "code",
   "execution_count": 9,
   "id": "9ad7dadc",
   "metadata": {},
   "outputs": [
    {
     "name": "stdout",
     "output_type": "stream",
     "text": [
      "1\n",
      "4\n",
      "7\n",
      "1\n",
      "3\n",
      "5\n",
      "7\n",
      "9\n",
      "11\n",
      "13\n",
      "15\n",
      "17\n",
      "19\n"
     ]
    }
   ],
   "source": [
    "# Task 11\n",
    "# Create a sequence of numbers from 0 to 10, and print each item in the sequence:\n",
    "\n",
    "# Print odd numbers between 1 to 10\n",
    "for i in range(1,10,3):\n",
    "  print(i)\n",
    "\n",
    "# Print odd numbers between 1 to 20\n",
    "for i in range(1,20,2):\n",
    "  print(i)"
   ]
  },
  {
   "cell_type": "code",
   "execution_count": 10,
   "id": "6738917e",
   "metadata": {},
   "outputs": [
    {
     "name": "stdout",
     "output_type": "stream",
     "text": [
      "764\n",
      "744\n",
      "13366\n",
      "16722\n",
      "786\n",
      "My favourite colour is Yellow\n",
      "My favourite colour is Pink\n",
      "My favourite colour is Purple\n",
      "My favourite colour is Blue\n"
     ]
    }
   ],
   "source": [
    "# Iterating through a list\n",
    "list = [382,372,6683,8361,393]\n",
    "\n",
    "for i in list:\n",
    "  print(i*2)\n",
    "\n",
    "my_tuple = (\"Yellow\", \"Pink\", \"Purple\", \"Blue\")\n",
    "\n",
    "for i in my_tuple:\n",
    "  print(f'My favourite colour is', i)\n"
   ]
  },
  {
   "cell_type": "code",
   "execution_count": 11,
   "id": "bb8ffa34",
   "metadata": {},
   "outputs": [
    {
     "name": "stdout",
     "output_type": "stream",
     "text": [
      "A\n",
      "B\n",
      "C\n",
      "D\n",
      "C\n",
      "D\n",
      "C\n",
      "D\n",
      "C\n",
      "D\n",
      "C\n",
      "D\n",
      "E\n"
     ]
    }
   ],
   "source": [
    "# Task 12 \n",
    "# Write a program that will print ‘A’, then ‘B’, then it will alternate C's and D's five times and then finish with the letter E once.\n",
    "\n",
    "print(\"A\")\n",
    "print(\"B\")\n",
    "for i in range(5):\n",
    "  print(\"C\")\n",
    "  print(\"D\")\n",
    "print(\"E\") # This is outside the for loop"
   ]
  },
  {
   "cell_type": "code",
   "execution_count": 12,
   "id": "4fe1ca8e",
   "metadata": {},
   "outputs": [
    {
     "name": "stdout",
     "output_type": "stream",
     "text": [
      "Dodge\n",
      "Black Mamba\n",
      "2019\n",
      "brand\n",
      "model\n",
      "year\n"
     ]
    }
   ],
   "source": [
    "cars = {\n",
    "\"car1\" : {\"brand\": \"Dodge\", \"model\": \"Black Mamba\", \"year\": 2019},\n",
    "\"car2\" : {\"brand\": \"Mercedes\", \"model\": \"Classics\", \"year\": 1905},\n",
    "\"car3\" : {\"brand\": \"Tesla\", \"model\": \"CS50\", \"year\": 2025}\n",
    "}\n",
    "\n",
    "for i in cars['car1'].values(): # Specify which to loop through\n",
    "  print(i)\n",
    "\n",
    "for i in cars['car3'].keys():\n",
    "  print(i)"
   ]
  },
  {
   "cell_type": "code",
   "execution_count": 13,
   "id": "31c1a82a",
   "metadata": {},
   "outputs": [
    {
     "data": {
      "text/plain": [
       "'Hello, how are you Sandra?'"
      ]
     },
     "execution_count": 13,
     "metadata": {},
     "output_type": "execute_result"
    }
   ],
   "source": [
    "# Simple function\n",
    "\n",
    "def simple_func(name):\n",
    "  return(f\"Hello, how are you {name}?\")\n",
    "\n",
    "simple_func(\"Sandra\")"
   ]
  },
  {
   "cell_type": "code",
   "execution_count": 14,
   "id": "ef8b5b4a",
   "metadata": {},
   "outputs": [
    {
     "ename": "KeyboardInterrupt",
     "evalue": "Interrupted by user",
     "output_type": "error",
     "traceback": [
      "\u001b[0;31m---------------------------------------------------------------------------\u001b[0m",
      "\u001b[0;31mKeyboardInterrupt\u001b[0m                         Traceback (most recent call last)",
      "\u001b[1;32m/Users/sandraise/Desktop/Software Development & System Architecture Bootcamp/Week 2/Session 4/PythonBootcampDay4.ipynb Cell 11'\u001b[0m in \u001b[0;36m<cell line: 8>\u001b[0;34m()\u001b[0m\n\u001b[1;32m      <a href='vscode-notebook-cell:/Users/sandraise/Desktop/Software%20Development%20%26%20System%20Architecture%20Bootcamp/Week%202/Session%204/PythonBootcampDay4.ipynb#ch0000010?line=4'>5</a>\u001b[0m   kilometers \u001b[39m=\u001b[39m miles \u001b[39m*\u001b[39m \u001b[39m1.6\u001b[39m\n\u001b[1;32m      <a href='vscode-notebook-cell:/Users/sandraise/Desktop/Software%20Development%20%26%20System%20Architecture%20Bootcamp/Week%202/Session%204/PythonBootcampDay4.ipynb#ch0000010?line=5'>6</a>\u001b[0m   \u001b[39mreturn\u001b[39;00m(\u001b[39mf\u001b[39m\u001b[39m\"\u001b[39m\u001b[39mMiles is: \u001b[39m\u001b[39m{\u001b[39;00mmiles\u001b[39m}\u001b[39;00m\u001b[39m. Kilometers is \u001b[39m\u001b[39m{\u001b[39;00mkilometers\u001b[39m}\u001b[39;00m\u001b[39m\"\u001b[39m) \n\u001b[0;32m----> <a href='vscode-notebook-cell:/Users/sandraise/Desktop/Software%20Development%20%26%20System%20Architecture%20Bootcamp/Week%202/Session%204/PythonBootcampDay4.ipynb#ch0000010?line=7'>8</a>\u001b[0m dis_converter()\n",
      "\u001b[1;32m/Users/sandraise/Desktop/Software Development & System Architecture Bootcamp/Week 2/Session 4/PythonBootcampDay4.ipynb Cell 11'\u001b[0m in \u001b[0;36mdis_converter\u001b[0;34m()\u001b[0m\n\u001b[1;32m      <a href='vscode-notebook-cell:/Users/sandraise/Desktop/Software%20Development%20%26%20System%20Architecture%20Bootcamp/Week%202/Session%204/PythonBootcampDay4.ipynb#ch0000010?line=2'>3</a>\u001b[0m \u001b[39mdef\u001b[39;00m \u001b[39mdis_converter\u001b[39m():\n\u001b[0;32m----> <a href='vscode-notebook-cell:/Users/sandraise/Desktop/Software%20Development%20%26%20System%20Architecture%20Bootcamp/Week%202/Session%204/PythonBootcampDay4.ipynb#ch0000010?line=3'>4</a>\u001b[0m   miles \u001b[39m=\u001b[39m \u001b[39mint\u001b[39m(\u001b[39minput\u001b[39;49m(\u001b[39m\"\u001b[39;49m\u001b[39mEnter miles: \u001b[39;49m\u001b[39m\"\u001b[39;49m))\n\u001b[1;32m      <a href='vscode-notebook-cell:/Users/sandraise/Desktop/Software%20Development%20%26%20System%20Architecture%20Bootcamp/Week%202/Session%204/PythonBootcampDay4.ipynb#ch0000010?line=4'>5</a>\u001b[0m   kilometers \u001b[39m=\u001b[39m miles \u001b[39m*\u001b[39m \u001b[39m1.6\u001b[39m\n\u001b[1;32m      <a href='vscode-notebook-cell:/Users/sandraise/Desktop/Software%20Development%20%26%20System%20Architecture%20Bootcamp/Week%202/Session%204/PythonBootcampDay4.ipynb#ch0000010?line=5'>6</a>\u001b[0m   \u001b[39mreturn\u001b[39;00m(\u001b[39mf\u001b[39m\u001b[39m\"\u001b[39m\u001b[39mMiles is: \u001b[39m\u001b[39m{\u001b[39;00mmiles\u001b[39m}\u001b[39;00m\u001b[39m. Kilometers is \u001b[39m\u001b[39m{\u001b[39;00mkilometers\u001b[39m}\u001b[39;00m\u001b[39m\"\u001b[39m)\n",
      "File \u001b[0;32m/Library/Frameworks/Python.framework/Versions/3.10/lib/python3.10/site-packages/ipykernel/kernelbase.py:1152\u001b[0m, in \u001b[0;36mKernel.raw_input\u001b[0;34m(self, prompt)\u001b[0m\n\u001b[1;32m   <a href='file:///Library/Frameworks/Python.framework/Versions/3.10/lib/python3.10/site-packages/ipykernel/kernelbase.py?line=1147'>1148</a>\u001b[0m \u001b[39mif\u001b[39;00m \u001b[39mnot\u001b[39;00m \u001b[39mself\u001b[39m\u001b[39m.\u001b[39m_allow_stdin:\n\u001b[1;32m   <a href='file:///Library/Frameworks/Python.framework/Versions/3.10/lib/python3.10/site-packages/ipykernel/kernelbase.py?line=1148'>1149</a>\u001b[0m     \u001b[39mraise\u001b[39;00m StdinNotImplementedError(\n\u001b[1;32m   <a href='file:///Library/Frameworks/Python.framework/Versions/3.10/lib/python3.10/site-packages/ipykernel/kernelbase.py?line=1149'>1150</a>\u001b[0m         \u001b[39m\"\u001b[39m\u001b[39mraw_input was called, but this frontend does not support input requests.\u001b[39m\u001b[39m\"\u001b[39m\n\u001b[1;32m   <a href='file:///Library/Frameworks/Python.framework/Versions/3.10/lib/python3.10/site-packages/ipykernel/kernelbase.py?line=1150'>1151</a>\u001b[0m     )\n\u001b[0;32m-> <a href='file:///Library/Frameworks/Python.framework/Versions/3.10/lib/python3.10/site-packages/ipykernel/kernelbase.py?line=1151'>1152</a>\u001b[0m \u001b[39mreturn\u001b[39;00m \u001b[39mself\u001b[39;49m\u001b[39m.\u001b[39;49m_input_request(\n\u001b[1;32m   <a href='file:///Library/Frameworks/Python.framework/Versions/3.10/lib/python3.10/site-packages/ipykernel/kernelbase.py?line=1152'>1153</a>\u001b[0m     \u001b[39mstr\u001b[39;49m(prompt),\n\u001b[1;32m   <a href='file:///Library/Frameworks/Python.framework/Versions/3.10/lib/python3.10/site-packages/ipykernel/kernelbase.py?line=1153'>1154</a>\u001b[0m     \u001b[39mself\u001b[39;49m\u001b[39m.\u001b[39;49m_parent_ident[\u001b[39m\"\u001b[39;49m\u001b[39mshell\u001b[39;49m\u001b[39m\"\u001b[39;49m],\n\u001b[1;32m   <a href='file:///Library/Frameworks/Python.framework/Versions/3.10/lib/python3.10/site-packages/ipykernel/kernelbase.py?line=1154'>1155</a>\u001b[0m     \u001b[39mself\u001b[39;49m\u001b[39m.\u001b[39;49mget_parent(\u001b[39m\"\u001b[39;49m\u001b[39mshell\u001b[39;49m\u001b[39m\"\u001b[39;49m),\n\u001b[1;32m   <a href='file:///Library/Frameworks/Python.framework/Versions/3.10/lib/python3.10/site-packages/ipykernel/kernelbase.py?line=1155'>1156</a>\u001b[0m     password\u001b[39m=\u001b[39;49m\u001b[39mFalse\u001b[39;49;00m,\n\u001b[1;32m   <a href='file:///Library/Frameworks/Python.framework/Versions/3.10/lib/python3.10/site-packages/ipykernel/kernelbase.py?line=1156'>1157</a>\u001b[0m )\n",
      "File \u001b[0;32m/Library/Frameworks/Python.framework/Versions/3.10/lib/python3.10/site-packages/ipykernel/kernelbase.py:1194\u001b[0m, in \u001b[0;36mKernel._input_request\u001b[0;34m(self, prompt, ident, parent, password)\u001b[0m\n\u001b[1;32m   <a href='file:///Library/Frameworks/Python.framework/Versions/3.10/lib/python3.10/site-packages/ipykernel/kernelbase.py?line=1190'>1191</a>\u001b[0m             \u001b[39mbreak\u001b[39;00m\n\u001b[1;32m   <a href='file:///Library/Frameworks/Python.framework/Versions/3.10/lib/python3.10/site-packages/ipykernel/kernelbase.py?line=1191'>1192</a>\u001b[0m \u001b[39mexcept\u001b[39;00m \u001b[39mKeyboardInterrupt\u001b[39;00m:\n\u001b[1;32m   <a href='file:///Library/Frameworks/Python.framework/Versions/3.10/lib/python3.10/site-packages/ipykernel/kernelbase.py?line=1192'>1193</a>\u001b[0m     \u001b[39m# re-raise KeyboardInterrupt, to truncate traceback\u001b[39;00m\n\u001b[0;32m-> <a href='file:///Library/Frameworks/Python.framework/Versions/3.10/lib/python3.10/site-packages/ipykernel/kernelbase.py?line=1193'>1194</a>\u001b[0m     \u001b[39mraise\u001b[39;00m \u001b[39mKeyboardInterrupt\u001b[39;00m(\u001b[39m\"\u001b[39m\u001b[39mInterrupted by user\u001b[39m\u001b[39m\"\u001b[39m) \u001b[39mfrom\u001b[39;00m \u001b[39mNone\u001b[39m\n\u001b[1;32m   <a href='file:///Library/Frameworks/Python.framework/Versions/3.10/lib/python3.10/site-packages/ipykernel/kernelbase.py?line=1194'>1195</a>\u001b[0m \u001b[39mexcept\u001b[39;00m \u001b[39mException\u001b[39;00m:\n\u001b[1;32m   <a href='file:///Library/Frameworks/Python.framework/Versions/3.10/lib/python3.10/site-packages/ipykernel/kernelbase.py?line=1195'>1196</a>\u001b[0m     \u001b[39mself\u001b[39m\u001b[39m.\u001b[39mlog\u001b[39m.\u001b[39mwarning(\u001b[39m\"\u001b[39m\u001b[39mInvalid Message:\u001b[39m\u001b[39m\"\u001b[39m, exc_info\u001b[39m=\u001b[39m\u001b[39mTrue\u001b[39;00m)\n",
      "\u001b[0;31mKeyboardInterrupt\u001b[0m: Interrupted by user"
     ]
    }
   ],
   "source": [
    "# Convert miles to km\n",
    "\n",
    "def dis_converter():\n",
    "  miles = int(input(\"Enter miles: \"))\n",
    "  kilometers = miles * 1.6\n",
    "  return(f\"Miles is: {miles}. Kilometers is {kilometers}\") \n",
    "\n",
    "dis_converter()"
   ]
  }
 ],
 "metadata": {
  "kernelspec": {
   "display_name": "Python 3 (ipykernel)",
   "language": "python",
   "name": "python3"
  },
  "language_info": {
   "codemirror_mode": {
    "name": "ipython",
    "version": 3
   },
   "file_extension": ".py",
   "mimetype": "text/x-python",
   "name": "python",
   "nbconvert_exporter": "python",
   "pygments_lexer": "ipython3",
   "version": "3.10.3"
  }
 },
 "nbformat": 4,
 "nbformat_minor": 5
}
