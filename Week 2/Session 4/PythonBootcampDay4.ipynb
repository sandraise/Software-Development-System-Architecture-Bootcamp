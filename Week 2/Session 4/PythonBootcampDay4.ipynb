{
 "cells": [
  {
   "cell_type": "markdown",
   "id": "5610bc89",
   "metadata": {},
   "source": [
    "# Python Bootcamp  Day 4:\n",
    "# Fundamentals of Python\n",
    "# https://www.youtube.com/watch?v=Jv3wMfMf1m8"
   ]
  },
  {
   "cell_type": "code",
   "execution_count": null,
   "id": "d9cf65a2",
   "metadata": {},
   "outputs": [],
   "source": [
    "# Dictionary\n",
    "\n",
    "# MonthConversion - a program that allows users to convert a 3 digit month name to its full month name.\n",
    "\n",
    "monthConversion = {\n",
    "  \"Jan\" : \"January\",\n",
    "  \"Feb\" : \"February\",\n",
    "  \"Mar\" : \"March\",\n",
    "  \"Apr\" : \"April\",\n",
    "  \"May\" : \"May\",\n",
    "  \"Jun\" : \"June\",\n",
    "  \"Jul\" : \"July\",\n",
    "  \"Aug\" : \"August\",\n",
    "  \"Sep\" : \"September\",\n",
    "  \"Oct\" : \"October\",\n",
    "  \"Nov\" : \"November\",\n",
    "  \"Dec\" : \"December\"\n",
    "}\n",
    "\n",
    "print(monthConversion[\"Nov\"])"
   ]
  },
  {
   "cell_type": "code",
   "execution_count": 2,
   "id": "72486823",
   "metadata": {},
   "outputs": [
    {
     "name": "stdout",
     "output_type": "stream",
     "text": [
      "{'car': 'Toyota', 'model': 'CXS', 'year': 2020, 'owner': {'first_name': 'Bayo', 'last_name': 'Dan'}}\n",
      "Toyota\n",
      "Dan\n",
      "dict_keys(['car', 'model', 'year', 'owner'])\n",
      "dict_items([('car', 'Toyota'), ('model', 'CXS'), ('year', 2020), ('owner', {'first_name': 'Bayo', 'last_name': 'Dan'})])\n",
      "{'car': 'Toyota', 'model': 'Camary', 'year': 2020, 'owner': {'first_name': 'Bayo', 'last_name': 'Dan'}}\n",
      "{'car': 'Toyota', 'model': 'Camary', 'owner': {'first_name': 'Bayo', 'last_name': 'Dan'}}\n"
     ]
    }
   ],
   "source": [
    "dict = {\"car\": \"Toyota\",\n",
    "\"model\":\"CXS\",\n",
    "\"year\": 2020,\n",
    "\"owner\": {\n",
    "  \"first_name\": \"Bayo\",\n",
    "  \"last_name\": \"Dan\"\n",
    "}}\n",
    "\n",
    "print(dict)\n",
    "\n",
    "print(dict.get(\"car\"))\n",
    "\n",
    "print(dict['owner']['last_name'])\n",
    "\n",
    "print(dict.keys())\n",
    "\n",
    "print(dict.items())\n",
    "\n",
    "dict['model'] = 'Camary'\n",
    "\n",
    "print(dict)\n",
    "\n",
    "dict.pop(\"year\")\n",
    "\n",
    "print(dict)"
   ]
  },
  {
   "cell_type": "code",
   "execution_count": null,
   "id": "92d6462a",
   "metadata": {},
   "outputs": [],
   "source": [
    "num1 = 5\n",
    "num2 = 8\n",
    "\n",
    "if (num1 > num2):\n",
    "  print(\"This is true\")\n",
    "else:\n",
    "  print(\"This is not true\")\n",
    "\n"
   ]
  },
  {
   "cell_type": "code",
   "execution_count": null,
   "id": "94c44cc7",
   "metadata": {},
   "outputs": [],
   "source": [
    "# Task 10\n",
    "# Create variables called bank_balance = 10 and access_code = “niyo”, or set to whatever you like.\n",
    "# Create a program that asks the user to input price of product and access code, and prints ‘Card declined’ if the bank_balance is less than price of product \n",
    "# OR the access_code is not equal to “niyo” otherwise program prints “Payment Accepted”\n",
    "\n",
    "bank_balance = 10\n",
    "access_code = \"niyo\"\n",
    "\n",
    "user_input_price = int(input(\"Enter the price of product: \"))\n",
    "user_input_access_code = input(\"Enter the access code: \")\n",
    "\n",
    "if bank_balance < user_input_price or user_input_price != access_code:\n",
    "  print(\"Card declined.\")\n",
    "else:\n",
    "  print(\"Payment accepted.\")\n",
    "\n",
    "for i in range(5):\n",
    "  if i < 3:\n",
    "    print(\"Hello World\")\n",
    "  else:\n",
    "    print(\"Hi World\")"
   ]
  },
  {
   "cell_type": "code",
   "execution_count": null,
   "id": "9ad7dadc",
   "metadata": {},
   "outputs": [],
   "source": [
    "# Task 11\n",
    "# Create a sequence of numbers from 0 to 10, and print each item in the sequence:\n",
    "\n",
    "# Print odd numbers between 1 to 10\n",
    "for i in range(1,10,3):\n",
    "  print(i)\n",
    "\n",
    "# Print odd numbers between 1 to 20\n",
    "for i in range(1,20,2):\n",
    "  print(i)"
   ]
  },
  {
   "cell_type": "code",
   "execution_count": null,
   "id": "6738917e",
   "metadata": {},
   "outputs": [],
   "source": [
    "# Iterating through a list\n",
    "list = [382,372,6683,8361,393]\n",
    "\n",
    "for i in list:\n",
    "  print(i*2)\n",
    "\n",
    "my_tuple = (\"Yellow\", \"Pink\", \"Purple\", \"Blue\")\n",
    "\n",
    "for i in my_tuple:\n",
    "  print(f'My favourite colour is', i)\n"
   ]
  },
  {
   "cell_type": "code",
   "execution_count": null,
   "id": "bb8ffa34",
   "metadata": {},
   "outputs": [],
   "source": [
    "# Task 12 \n",
    "# Write a program that will print ‘A’, then ‘B’, then it will alternate C's and D's five times and then finish with the letter E once.\n",
    "\n",
    "print(\"A\")\n",
    "print(\"B\")\n",
    "for i in range(5):\n",
    "  print(\"C\")\n",
    "  print(\"D\")\n",
    "print(\"E\") # This is outside the for loop"
   ]
  },
  {
   "cell_type": "code",
   "execution_count": null,
   "id": "ea274990",
   "metadata": {},
   "outputs": [],
   "source": [
    "# Task 13\n",
    "# Write a loop that breaks and prints “Negative number detected”, when a negative integer is detected in the array below.\n",
    "\n",
    "numbers = [12,34,34,53,342,62,-1,23,5]"
   ]
  },
  {
   "cell_type": "code",
   "execution_count": null,
   "id": "d62b9142",
   "metadata": {},
   "outputs": [],
   "source": [
    "# Task 14\n",
    "# Create a list of names. Print out the length of the list. Create an if statement that prints “Access granted” if your name variable is inside the list\n",
    "# Extension: If name is inside list, check that Age is above 21. If Age is above 21, print access granted."
   ]
  },
  {
   "cell_type": "code",
   "execution_count": null,
   "id": "e8b59fa6",
   "metadata": {},
   "outputs": [],
   "source": [
    "# Task 15\n",
    "# Write a program that stores your name as a variable.\n",
    "# Write an ‘if statement’ that prints ‘access denied’ if your name variable does not equal ‘John’.\n",
    "# If the name variable equals ‘John’, then the program should print ‘Welcome John. How are you?’"
   ]
  },
  {
   "cell_type": "code",
   "execution_count": null,
   "id": "a01545aa",
   "metadata": {},
   "outputs": [],
   "source": [
    "# Task 16\n",
    "# Write a program that uses exactly four for loops to print the sequence of letters below:\n",
    "# AAAAAAAAAABBBBBBBCDCDCDCDEFFFFFFG"
   ]
  },
  {
   "cell_type": "code",
   "execution_count": null,
   "id": "f28227b9",
   "metadata": {},
   "outputs": [],
   "source": [
    "# Task 17\n",
    "# Write a program to print the square of all the even numbers between 0 and 15"
   ]
  },
  {
   "cell_type": "code",
   "execution_count": null,
   "id": "01b731dd",
   "metadata": {},
   "outputs": [],
   "source": [
    "# Task 18\n",
    "# Write a program to print the square of all the even numbers between 0 and 15"
   ]
  },
  {
   "cell_type": "code",
   "execution_count": 1,
   "id": "4fe1ca8e",
   "metadata": {},
   "outputs": [
    {
     "name": "stdout",
     "output_type": "stream",
     "text": [
      "Dodge\n",
      "Black Mamba\n",
      "2019\n",
      "brand\n",
      "model\n",
      "year\n"
     ]
    }
   ],
   "source": [
    "cars = {\n",
    "\"car1\" : {\"brand\": \"Dodge\", \"model\": \"Black Mamba\", \"year\": 2019},\n",
    "\"car2\" : {\"brand\": \"Mercedes\", \"model\": \"Classics\", \"year\": 1905},\n",
    "\"car3\" : {\"brand\": \"Tesla\", \"model\": \"CS50\", \"year\": 2025}\n",
    "}\n",
    "\n",
    "for i in cars['car1'].values(): # Specify which to loop through\n",
    "  print(i)\n",
    "\n",
    "for i in cars['car3'].keys():\n",
    "  print(i)"
   ]
  },
  {
   "cell_type": "code",
   "execution_count": null,
   "id": "31c1a82a",
   "metadata": {},
   "outputs": [],
   "source": [
    "# Simple function\n",
    "\n",
    "def simple_func(name):\n",
    "  return(f\"Hello, how are you {name}?\")\n",
    "\n",
    "simple_func(\"Sandra\")"
   ]
  },
  {
   "cell_type": "code",
   "execution_count": null,
   "id": "ef8b5b4a",
   "metadata": {},
   "outputs": [],
   "source": [
    "# Task 19\n",
    "# Write a function that takes in a number as an arguments and converts it from miles to km.\n",
    "\n",
    "def dis_converter():\n",
    "  miles = int(input(\"Enter miles: \"))\n",
    "  kilometers = miles * 1.6\n",
    "  return(f\"Miles is: {miles}. Kilometers is {kilometers}\") \n",
    "\n",
    "dis_converter()"
   ]
  },
  {
   "cell_type": "code",
   "execution_count": null,
   "id": "feff141f",
   "metadata": {},
   "outputs": [],
   "source": [
    "# Task 20\n",
    "# Create a simple calculator in python that takes in an expression from the user, outputs the result of the evaluation, throws up and error message when a user inputs an invalid expression."
   ]
  },
  {
   "cell_type": "code",
   "execution_count": null,
   "id": "8ae08985",
   "metadata": {},
   "outputs": [],
   "source": [
    "# Task 21\n",
    "# Write a guess-a-number program. Create a variable called ‘correct number’. Let the player guess a number. The program should tell them if they are correct."
   ]
  },
  {
   "cell_type": "code",
   "execution_count": null,
   "id": "eaf836e0",
   "metadata": {},
   "outputs": [],
   "source": [
    "# Task 22\n",
    "# Write a function that stutters a word as if someone is struggling to read it. The first two letters are repeated twice with an ellipsis ... and space after each, and then the word is pronounced with a question mark ?.\n",
    "# Examples\n",
    "# stutter(\"incredible\") ➞ \"in... in... incredible?\"\n",
    "# stutter(\"enthusiastic\") ➞ \"en... en... enthusiastic?\"\n",
    "# stutter(\"outstanding\") ➞ \"ou... ou... outstanding?\""
   ]
  }
 ],
 "metadata": {
  "kernelspec": {
   "display_name": "Python 3 (ipykernel)",
   "language": "python",
   "name": "python3"
  },
  "language_info": {
   "codemirror_mode": {
    "name": "ipython",
    "version": 3
   },
   "file_extension": ".py",
   "mimetype": "text/x-python",
   "name": "python",
   "nbconvert_exporter": "python",
   "pygments_lexer": "ipython3",
   "version": "3.10.3"
  }
 },
 "nbformat": 4,
 "nbformat_minor": 5
}
