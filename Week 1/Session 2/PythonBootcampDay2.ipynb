{
 "cells": [
  {
   "cell_type": "code",
   "execution_count": 10,
   "id": "054623db",
   "metadata": {},
   "outputs": [],
   "source": [
    "# Python Bootcamp  Day 2:\n",
    "# Fundamentals of Python\n",
    "# https://www.youtube.com/watch?v=j_ietmzBsnI&feature=youtu.be\n"
   ]
  },
  {
   "cell_type": "code",
   "execution_count": 11,
   "id": "351e3766",
   "metadata": {},
   "outputs": [
    {
     "name": "stdout",
     "output_type": "stream",
     "text": [
      "five is greater than 2\n"
     ]
    }
   ],
   "source": [
    "# Identation\n",
    "\n",
    "if 5 > 2 :\n",
    "    print(\"five is greater than 2\")"
   ]
  },
  {
   "cell_type": "code",
   "execution_count": 12,
   "id": "95d1ec38",
   "metadata": {},
   "outputs": [],
   "source": [
    "# Variables (case-sensitivity)\n",
    "\n",
    "myvar = 4\n",
    "my_var = \"Hello\"\n",
    "_my_var = True"
   ]
  },
  {
   "cell_type": "code",
   "execution_count": 13,
   "id": "80fa4a44",
   "metadata": {},
   "outputs": [],
   "source": [
    "# Python comment\n",
    "\n",
    "# Camelcase\n",
    "pythonBootcamp = \"Welcome to Niyo!\" # new comment\n",
    "\n",
    "# snakecase\n",
    "disrupt_bootcamp = \"Software Architecture\"\n",
    "\n",
    "# Pascalcase\n",
    "ILovePython = \"Hello World!\""
   ]
  },
  {
   "cell_type": "code",
   "execution_count": 14,
   "id": "88a2c749",
   "metadata": {},
   "outputs": [
    {
     "data": {
      "text/plain": [
       "'\\nHello first line of comment\\nsecond\\nthird\\n'"
      ]
     },
     "execution_count": 14,
     "metadata": {},
     "output_type": "execute_result"
    }
   ],
   "source": [
    "# Multi-line comment\n",
    "\n",
    "\"\"\"\n",
    "Hello first line of comment\n",
    "second\n",
    "third\n",
    "\"\"\""
   ]
  },
  {
   "cell_type": "code",
   "execution_count": 15,
   "id": "edbcd208",
   "metadata": {},
   "outputs": [
    {
     "data": {
      "text/plain": [
       "int"
      ]
     },
     "execution_count": 15,
     "metadata": {},
     "output_type": "execute_result"
    }
   ],
   "source": [
    "# Casting\n",
    "\n",
    "var = \"5\"\n",
    "type(var) # string\n",
    "\n",
    "var = int(var)\n",
    "type(var) # type has now changed to int\n",
    "\n",
    "number_of_hours = int()\n",
    "\n",
    "height = int(150.0)\n",
    "type(height)"
   ]
  },
  {
   "cell_type": "code",
   "execution_count": 16,
   "id": "f8b4957d",
   "metadata": {},
   "outputs": [
    {
     "name": "stdout",
     "output_type": "stream",
     "text": [
      "Hello, my name is Sandra\n"
     ]
    }
   ],
   "source": [
    "# Global and local scoping\n",
    "\n",
    "name = \"Sandra\" # varible is defined globally so it can be accessed anywhere\n",
    "\n",
    "def print_name():\n",
    "    name = \"Sandra\" # only defined locally, can only be accessed within this function\n",
    "    pass\n",
    "    print(f\"Hello, my name is {name}\")\n",
    "print_name()"
   ]
  },
  {
   "cell_type": "code",
   "execution_count": 17,
   "id": "742224a1",
   "metadata": {},
   "outputs": [
    {
     "data": {
      "text/plain": [
       "2"
      ]
     },
     "execution_count": 17,
     "metadata": {},
     "output_type": "execute_result"
    }
   ],
   "source": [
    "# Python Arithmetic Operations\n",
    "\n",
    "num = 5 + 6 # Addition\n",
    "num -2 # Subtraction\n",
    "num * 5 # Multiplication\n",
    "num / 10 # Division\n",
    "\n",
    "age = 50\n",
    "age % 12 # Modulus\n",
    "\n",
    "dog = 3\n",
    "dog ** 4 # Exponential\n",
    "\n",
    "newNum = 12\n",
    "num // 4 "
   ]
  },
  {
   "cell_type": "code",
   "execution_count": 18,
   "id": "02ea5f6a",
   "metadata": {},
   "outputs": [
    {
     "data": {
      "text/plain": [
       "True"
      ]
     },
     "execution_count": 18,
     "metadata": {},
     "output_type": "execute_result"
    }
   ],
   "source": [
    "# Comparison operators\n",
    "\n",
    "num == 4 # Outputs boolean True or False\n",
    "\n",
    "num != 15\n",
    "\n",
    "num < 6\n",
    "\n",
    "num > 5\n",
    "\n",
    "num <= 17"
   ]
  },
  {
   "cell_type": "code",
   "execution_count": 19,
   "id": "94bb21e8",
   "metadata": {},
   "outputs": [
    {
     "data": {
      "text/plain": [
       "False"
      ]
     },
     "execution_count": 19,
     "metadata": {},
     "output_type": "execute_result"
    }
   ],
   "source": [
    "# Logical Operators\n",
    "\n",
    "age1 = 25\n",
    "age2 = 30\n",
    "\n",
    "age > 20 and age2 > 35 # False\n",
    "\n",
    "age > 20 or age2 > 35 # True\n",
    "\n",
    "not(age > 20 or age2 > 35) # False"
   ]
  },
  {
   "cell_type": "code",
   "execution_count": 20,
   "id": "405e43a4",
   "metadata": {},
   "outputs": [
    {
     "name": "stdout",
     "output_type": "stream",
     "text": [
      "['David', 'Oluchi', 'Ope', 'Yemi']\n"
     ]
    },
    {
     "data": {
      "text/plain": [
       "False"
      ]
     },
     "execution_count": 20,
     "metadata": {},
     "output_type": "execute_result"
    }
   ],
   "source": [
    "# Membership Operation\n",
    "\n",
    "names = [\"David\", \"Oluchi\", \"Ope\", \"Yemi\"]\n",
    "print(names)\n",
    "\"David\" in names\n",
    "\"Cynthia\" in names"
   ]
  },
  {
   "cell_type": "code",
   "execution_count": 21,
   "id": "d4d55f16",
   "metadata": {},
   "outputs": [
    {
     "name": "stdout",
     "output_type": "stream",
     "text": [
      "Your new number is:  39\n"
     ]
    }
   ],
   "source": [
    "# Task 4\n",
    "# Write a program that asks the user to enter a number. Store that number in a variable. Add 2 to that number, store the result in the same variable, and then print out the value of that variable\n",
    "\n",
    "numberInput = int(input(\"Enter a number: \"))\n",
    "numberInput = numberInput + 2\n",
    "print(\"Your new number is: \", numberInput)"
   ]
  },
  {
   "cell_type": "code",
   "execution_count": 22,
   "id": "a7c643d0",
   "metadata": {},
   "outputs": [
    {
     "name": "stdout",
     "output_type": "stream",
     "text": [
      "2,3,6,7,6\n"
     ]
    }
   ],
   "source": [
    "# Task 5\n",
    "# Write a program that asks the user to enter five numbers (use five input statements). Then print out those numbers all on the same line, with each number separated from the others by exactly three spaces. Research into the ‘sep’ optional argument to the print statement to do this.\n",
    "\n",
    "input_1 = int(input(\"Enter a the first number: \"))\n",
    "input_2 = int(input(\"Enter a the second number: \"))\n",
    "input_3 = int(input(\"Enter a the third number: \"))\n",
    "input_4 = int(input(\"Enter a the fourth number: \"))\n",
    "input_5 = int(input(\"Enter a the fifth number: \"))\n",
    "\n",
    "print(f\"{input_1},{input_2},{input_3},{input_4},{input_5}\", sep=\"   \")"
   ]
  },
  {
   "cell_type": "code",
   "execution_count": 23,
   "id": "8aeb7e1e",
   "metadata": {},
   "outputs": [
    {
     "name": "stdout",
     "output_type": "stream",
     "text": [
      "Hello Sandra, you are 390 years old, in Dog years.\n"
     ]
    }
   ],
   "source": [
    "# Task 6\n",
    "\n",
    "# Create a login system. The user should input their name, and age. Print out the users age in Dog Years, in the following format:\n",
    "# ‘Hello [name], you are [age in dog years] years old, in Dog years’\n",
    "# eg. Hello John, you are 140 years old, in Dog Years.\n",
    "\n",
    "user_fname = input(\"Enter your name: \")\n",
    "user_age = int(input(\"Enter your age: \"))\n",
    "dog_age = (user_age*15)\n",
    "print(f'Hello {user_fname}, you are {dog_age} years old, in Dog years.')"
   ]
  },
  {
   "cell_type": "code",
   "execution_count": 24,
   "id": "b98d4429",
   "metadata": {},
   "outputs": [
    {
     "name": "stdout",
     "output_type": "stream",
     "text": [
      "The length of the field is 46. The width of the field is 32. The area is: 1472. The perimeter is 156.\n"
     ]
    }
   ],
   "source": [
    "# Task 7\n",
    "# Write a program to calculate the area of a football field and its perimeter? \n",
    "\n",
    "length = int(input(\"Enter your length of the field: \"))\n",
    "width = int(input(\"Enter your width of the field: \"))\n",
    "area = length * width\n",
    "perimeter = 2*(length+width)\n",
    "print(f\"The length of the field is {length}. The width of the field is {width}. The area is: {area}. The perimeter is {perimeter}.\")"
   ]
  },
  {
   "cell_type": "code",
   "execution_count": 25,
   "id": "da81b47a",
   "metadata": {},
   "outputs": [
    {
     "data": {
      "text/plain": [
       "2"
      ]
     },
     "execution_count": 25,
     "metadata": {},
     "output_type": "execute_result"
    }
   ],
   "source": [
    "# Python List\n",
    "\n",
    "food = [\"Rice\", \"Beans\", \"Pasta\", \"Bread\"]\n",
    "food.append(\"Plantain\") # [\"Rice\", \"Beans\", \"Pasta\", \"Bread\", \"Plantain\"]\n",
    "\n",
    "new_food = food.copy() # Copy list and save in a new list\n",
    "\n",
    "food.index(\"Beans\") # Find the index of an item\n",
    "\n",
    "food.insert(2, \"Stew\") # Insert item at specfied index\n",
    "\n",
    "food.pop(1) # Remove item from list using index\n",
    "\n",
    "food.remove(\"Bread\") # Remove value from list\n",
    "\n",
    "removed_food = new_food.remove(\"Beans\") # Remove item from list and store in a variable\n",
    "\n",
    "food.sort() # Sort list alphabetically\n",
    "\n",
    "food.clear() # Clear all values from list\n",
    "\n",
    "fav_foods = [\"Rice\", \"Orange\", \"Beans\", \"Pineapple\"]\n",
    "\n",
    "new_food.extend(fav_foods) # Combine both lists\n",
    "\n",
    "new_food.count(\"Rice\") # Count how many of an item"
   ]
  }
 ],
 "metadata": {
  "kernelspec": {
   "display_name": "Python 3 (ipykernel)",
   "language": "python",
   "name": "python3"
  },
  "language_info": {
   "codemirror_mode": {
    "name": "ipython",
    "version": 3
   },
   "file_extension": ".py",
   "mimetype": "text/x-python",
   "name": "python",
   "nbconvert_exporter": "python",
   "pygments_lexer": "ipython3",
   "version": "3.10.3"
  }
 },
 "nbformat": 4,
 "nbformat_minor": 5
}
