{
 "cells": [
  {
   "cell_type": "markdown",
   "id": "53a7002f",
   "metadata": {},
   "source": [
    "# Python Bootcamp  Day 1:\n",
    "# Fundamentals of Python\n",
    "# https://www.youtube.com/watch?v=0EV0yz-9Sco"
   ]
  },
  {
   "cell_type": "code",
   "execution_count": null,
   "id": "13cf91b4",
   "metadata": {},
   "outputs": [],
   "source": [
    "# Creating a variable called name\n",
    "name = \"Sandra\"\n",
    "\n",
    "# Print name variable to the terminal\n",
    "print(name)"
   ]
  },
  {
   "cell_type": "code",
   "execution_count": null,
   "id": "e859c305",
   "metadata": {},
   "outputs": [],
   "source": [
    "# Creating a variable that contains your interests\n",
    "interests = \"I am interested in Agile Delivery, specifically SaaS. I am also interested in SQL.\"\n",
    "\n",
    "# Print interests variable to the terminal\n",
    "print(interests)"
   ]
  },
  {
   "cell_type": "code",
   "execution_count": null,
   "id": "87330864",
   "metadata": {},
   "outputs": [],
   "source": [
    "# Print name and interests variable to the terminal\n",
    "print(name,interests)"
   ]
  },
  {
   "cell_type": "code",
   "execution_count": null,
   "id": "a8a8c61e",
   "metadata": {},
   "outputs": [],
   "source": [
    "type(\"London\")"
   ]
  },
  {
   "cell_type": "code",
   "execution_count": null,
   "id": "191a72c7",
   "metadata": {},
   "outputs": [],
   "source": [
    "type(3)"
   ]
  },
  {
   "cell_type": "code",
   "execution_count": null,
   "id": "f44e858f",
   "metadata": {},
   "outputs": [],
   "source": [
    "type(True)"
   ]
  },
  {
   "cell_type": "code",
   "execution_count": null,
   "id": "d14746e8",
   "metadata": {},
   "outputs": [],
   "source": [
    "type(3142)"
   ]
  },
  {
   "cell_type": "code",
   "execution_count": null,
   "id": "a9a1e83b",
   "metadata": {},
   "outputs": [],
   "source": [
    "type(1000000)"
   ]
  },
  {
   "cell_type": "code",
   "execution_count": null,
   "id": "954cf30d",
   "metadata": {},
   "outputs": [],
   "source": [
    "type(1+2j)"
   ]
  },
  {
   "cell_type": "code",
   "execution_count": null,
   "id": "ec57fb54",
   "metadata": {},
   "outputs": [],
   "source": [
    "type(-3)"
   ]
  },
  {
   "cell_type": "code",
   "execution_count": null,
   "id": "d04df778",
   "metadata": {},
   "outputs": [],
   "source": [
    "type(False)"
   ]
  },
  {
   "cell_type": "code",
   "execution_count": null,
   "id": "4e1feac8",
   "metadata": {},
   "outputs": [],
   "source": [
    "type(0)"
   ]
  },
  {
   "cell_type": "code",
   "execution_count": null,
   "id": "a58ba146",
   "metadata": {},
   "outputs": [],
   "source": [
    "type(\"Social Distancing\")"
   ]
  },
  {
   "cell_type": "code",
   "execution_count": null,
   "id": "72c33986",
   "metadata": {},
   "outputs": [],
   "source": [
    "a = 7 * 3/2\n",
    "print(a)\n",
    "\n",
    "b = 7.3 / 2 \n",
    "print(b)\n",
    "\n",
    "c = 7//2\n",
    "print (c)\n",
    "\n",
    "d = 7 % 2\n",
    "print(d)\n",
    "\n",
    "e = 7 ** 2\n",
    "print (e)\n",
    "\n",
    "f = 7 +2/3**2-5\n",
    "print(f)\n",
    "\n",
    "g = \"python\" + \"bootcamp\"\n",
    "print(g)"
   ]
  },
  {
   "cell_type": "code",
   "execution_count": null,
   "id": "f6d7282b",
   "metadata": {},
   "outputs": [],
   "source": [
    "# \"python\" + 3 # Can't concatenate string to number"
   ]
  },
  {
   "cell_type": "code",
   "execution_count": null,
   "id": "cba83131",
   "metadata": {},
   "outputs": [],
   "source": [
    "\"python\" + \"3\""
   ]
  },
  {
   "cell_type": "code",
   "execution_count": null,
   "id": "ba187d36",
   "metadata": {},
   "outputs": [],
   "source": [
    "\"python\" * 3"
   ]
  },
  {
   "cell_type": "code",
   "execution_count": null,
   "id": "9f440bc0",
   "metadata": {},
   "outputs": [],
   "source": [
    "3 * \"python\""
   ]
  },
  {
   "cell_type": "code",
   "execution_count": null,
   "id": "c50ceae6",
   "metadata": {},
   "outputs": [],
   "source": [
    "\"I love\" + \"\" + \"python\" * 3"
   ]
  },
  {
   "cell_type": "code",
   "execution_count": null,
   "id": "5a107f49",
   "metadata": {},
   "outputs": [],
   "source": [
    "\"I love\" * 3 + \"python\""
   ]
  },
  {
   "cell_type": "code",
   "execution_count": null,
   "id": "17985d93",
   "metadata": {},
   "outputs": [],
   "source": [
    "\"I love\" * 3 + \"python\""
   ]
  },
  {
   "cell_type": "code",
   "execution_count": null,
   "id": "67be690c",
   "metadata": {},
   "outputs": [],
   "source": [
    "(\"I love python\") * 3"
   ]
  },
  {
   "cell_type": "code",
   "execution_count": null,
   "id": "cf8b3d57",
   "metadata": {},
   "outputs": [],
   "source": [
    "myvariable = \"I love python\"\n",
    "MyVariable = \"I hate python\"\n",
    "MYVARIABLE = \"I am learning python\"\n",
    "\n",
    "print(myvariable)\n",
    "print(MyVariable)\n",
    "print(MYVARIABLE)"
   ]
  },
  {
   "cell_type": "code",
   "execution_count": null,
   "id": "d21d6427",
   "metadata": {},
   "outputs": [],
   "source": [
    "print('The value of 3+4 is', 3+4)\n",
    "\n",
    "print('A', 1, 'KYE', 2)\n",
    "\n",
    "age = 26\n",
    "print(f\"my age is {age}\")\n",
    "\n",
    "print(f\"Ten multiplied by ten is {10*10}\")"
   ]
  },
  {
   "cell_type": "code",
   "execution_count": null,
   "id": "b597e64e",
   "metadata": {},
   "outputs": [],
   "source": [
    "name = input(\"Enter your name: \")\n",
    "\n",
    "print(name)\n",
    "\n",
    "age = input(\"Enter your age: \")\n",
    "type(age) \n",
    "\n",
    "age = int(input(\"Enter your age: \"))\n",
    "type(age) "
   ]
  },
  {
   "cell_type": "code",
   "execution_count": null,
   "id": "7915bd13",
   "metadata": {},
   "outputs": [],
   "source": [
    "# Task 1\n",
    "# Write a program that asks for the users name then prints ‘Welcome [name]’ \n",
    "\n",
    "welcomeUser = input(\"Enter your name: \")\n",
    "print(f\"Welcome {welcomeUser}\")\n",
    "print(f\"Welcome {welcomeUser}, your age is {age}\")"
   ]
  },
  {
   "cell_type": "code",
   "execution_count": null,
   "id": "650dd4b1",
   "metadata": {},
   "outputs": [],
   "source": [
    "# Task 2\n",
    "# The Body Mass Index, BMI, is calculated as BMI = 703w/h(^2)\n",
    "# where w is the person’s weight in pounds and h is the person’s height in inches. \n",
    "# Write a program that asks the user for their height their weight and prints out their BMI. [Note: one way to compute h(^2) is as h * h.]\n",
    "\n",
    "height = int(input(\"Enter your height in inches: \"))\n",
    "weight = int(input(\"Enter your weight in pounds: \"))\n",
    "bmi = 703 * (weight/(height*height))\n",
    "print(f\"Your weight is {weight} and your height is {height} and therefore your BMI is {bmi}\")\n",
    "\n",
    "height = int(input(\"Enter your height in inches: \"))\n",
    "weight = int(input(\"Enter your weight in pounds: \"))\n",
    "print(\"Your BMI is \", 703 * (weight/(height*height)))"
   ]
  },
  {
   "cell_type": "code",
   "execution_count": null,
   "id": "24528ecb",
   "metadata": {},
   "outputs": [],
   "source": [
    "# Task 3\n",
    "# Write a program that asks the user to enter their name. Then print out the user’s name three times on the same line.\n",
    "\n",
    "userName = input(\"Enter your name here: \")\n",
    "print(\"Your name 3 times is: \", userName*3)"
   ]
  }
 ],
 "metadata": {
  "kernelspec": {
   "display_name": "Python 3 (ipykernel)",
   "language": "python",
   "name": "python3"
  },
  "language_info": {
   "codemirror_mode": {
    "name": "ipython",
    "version": 3
   },
   "file_extension": ".py",
   "mimetype": "text/x-python",
   "name": "python",
   "nbconvert_exporter": "python",
   "pygments_lexer": "ipython3",
   "version": "3.10.3"
  }
 },
 "nbformat": 4,
 "nbformat_minor": 5
}
